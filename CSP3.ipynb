{
 "cells": [
  {
   "cell_type": "code",
   "execution_count": 1,
   "id": "a6ea37af",
   "metadata": {},
   "outputs": [],
   "source": [
    "import pandas as pd\n",
    "import numpy as np\n",
    "import math\n",
    "from pyomo.environ import *\n",
    "from pyomo.opt import SolverFactory\n",
    "import os\n",
    "solver_location = \"C:\\\\Users\\\\DeepakYadav\\\\OneDrive - Tata Insights and Quants\\\\Optimization\\\\Cutting Stock Problem 1\\\\cbc\"\n",
    "os.chdir(r'C:\\\\Users\\\\DeepakYadav\\\\OneDrive - Tata Insights and Quants\\\\Optimization\\\\Cutting Stock Problem 1')"
   ]
  },
  {
   "cell_type": "code",
   "execution_count": 2,
   "id": "43843db7",
   "metadata": {},
   "outputs": [],
   "source": [
    "#DataReading\n",
    "Mcdf = pd.read_excel('Cutting Stock Data 3.xlsx',sheet_name = 'Mother Coil')\n",
    "Scdf = pd.read_excel('Cutting Stock Data 3.xlsx',sheet_name = 'Slitted Coil Demand')"
   ]
  },
  {
   "cell_type": "code",
   "execution_count": 3,
   "id": "536039d9",
   "metadata": {},
   "outputs": [],
   "source": [
    "#Columnsrenaming\n",
    "Mcdf.rename(columns = {'Mother Coil Width': 'McWidth','Cost Per Coil (Rs)' : 'McCost', 'Mother Coil Weight (Tons)': 'McWeight'},inplace = True)\n",
    "Scdf.rename(columns = {'Slitted Coil Width': 'ScWidth','Demand (tons)' : 'Demand'},inplace = True)"
   ]
  },
  {
   "cell_type": "code",
   "execution_count": 4,
   "id": "fbbfc5f2",
   "metadata": {},
   "outputs": [],
   "source": [
    "#DataProcessing\n",
    "Scdf['Index'] = Scdf['ScWidth']\n",
    "Mcdf['Index'] = Mcdf['McWidth']\n",
    "Scdf['ScDemand'] = Scdf['ScWidth'] / Mcdf['McWidth'][0]\n",
    "Scdf['ScDemand'] = Scdf['ScDemand'] * Mcdf['McWeight'][0]\n",
    "Scdf['ScDemand'] = round(Scdf['Demand']/ Scdf['ScDemand'])\n",
    "Scdf['ScDemand'] = Scdf['ScDemand'].astype(int)"
   ]
  },
  {
   "cell_type": "code",
   "execution_count": 5,
   "id": "8bb701f5",
   "metadata": {},
   "outputs": [],
   "source": [
    "#DefiningIndexes\n",
    "Scdf.set_index(['Index'],inplace = True)\n",
    "Mcdf.set_index(['Index'],inplace = True)"
   ]
  },
  {
   "cell_type": "code",
   "execution_count": 6,
   "id": "a54c600d",
   "metadata": {},
   "outputs": [],
   "source": [
    "#DefiningSets\n",
    "s_ScType = list(Scdf.index)\n",
    "s_McSerialNo = ['sno - '+str(x) for x in range(1,21)]\n",
    "s_McType = list(Mcdf.index)"
   ]
  },
  {
   "cell_type": "code",
   "execution_count": 7,
   "id": "316bf7f2",
   "metadata": {},
   "outputs": [],
   "source": [
    "#Defining Parameters\n",
    "p_ScDemand = Scdf['ScDemand'].to_dict()\n",
    "p_ScWidth = Scdf['ScWidth'].to_dict()\n",
    "p_McWidth = Mcdf['McWidth'].to_dict()\n",
    "p_McCost = Mcdf['McCost'].to_dict()"
   ]
  },
  {
   "cell_type": "code",
   "execution_count": 8,
   "id": "30e2002e",
   "metadata": {},
   "outputs": [],
   "source": [
    "#DefiningModel\n",
    "model = ConcreteModel()\n",
    "\n",
    "#Defining Variables\n",
    "model.v_mothcoil = Var(s_McType,s_McSerialNo,s_ScType, domain = NonNegativeIntegers)\n",
    "model.v_mothcoilusd = Var(s_McType,s_McSerialNo, domain = Binary)"
   ]
  },
  {
   "cell_type": "code",
   "execution_count": 9,
   "id": "58631891",
   "metadata": {},
   "outputs": [],
   "source": [
    "#Defining Constraints\n",
    "def demand_rule(model,s):\n",
    "    return sum(model.v_mothcoil[k,m,s] for m in s_McSerialNo for k in s_McType) == p_ScDemand[s]\n",
    "model.demand = Constraint(s_ScType, rule = demand_rule)\n",
    "    \n",
    "def Capacity_rule(model,j,k):\n",
    "    return sum(model.v_mothcoil[j,k,i] * p_ScWidth[i] for i in s_ScType) <= p_McWidth[j] * model.v_mothcoilusd[j,k]\n",
    "model.capacity_constraint = Constraint(s_McType,s_McSerialNo, rule = Capacity_rule)"
   ]
  },
  {
   "cell_type": "code",
   "execution_count": 10,
   "id": "0851f20d",
   "metadata": {},
   "outputs": [],
   "source": [
    "#Defining Objective\n",
    "model.cost = Objective(\n",
    "expr=sum(model.v_mothcoilusd[i,j] * p_McCost[i] for i in s_McType for j in s_McSerialNo),\n",
    "sense=minimize\n",
    ")"
   ]
  },
  {
   "cell_type": "code",
   "execution_count": 11,
   "id": "61be4453",
   "metadata": {},
   "outputs": [
    {
     "name": "stdout",
     "output_type": "stream",
     "text": [
      "Welcome to the CBC MILP Solver \n",
      "Version: 2.10 \n",
      "Build Date: Oct 13 2019 \n",
      "\n",
      "command line - C:\\Users\\DeepakYadav\\OneDrive - Tata Insights and Quants\\Optimization\\Cutting Stock Problem 1\\cbc.exe -printingOptions all -import C:\\Users\\DEEPAK~1\\AppData\\Local\\Temp\\tmpcrfwv8ft.pyomo.lp -stat=1 -solve -solu C:\\Users\\DEEPAK~1\\AppData\\Local\\Temp\\tmpcrfwv8ft.pyomo.soln (default strategy 1)\n",
      "Option for printingOptions changed from normal to all\n",
      "Presolve 45 (0) rows, 240 (0) columns and 440 (0) elements\n",
      "Statistics for presolved model\n",
      "Original problem has 240 integers (40 of which binary)\n",
      "==== 200 zero objective 3 different\n",
      "200 variables have objective of 0\n",
      "20 variables have objective of 7425\n",
      "20 variables have objective of 7750\n",
      "==== absolute objective values 3 different\n",
      "200 variables have objective of 0\n",
      "20 variables have objective of 7425\n",
      "20 variables have objective of 7750\n",
      "==== for integers 200 zero objective 3 different\n",
      "200 variables have objective of 0\n",
      "20 variables have objective of 7425\n",
      "20 variables have objective of 7750\n",
      "==== for integers absolute objective values 3 different\n",
      "200 variables have objective of 0\n",
      "20 variables have objective of 7425\n",
      "20 variables have objective of 7750\n",
      "===== end objective counts\n",
      "\n",
      "\n",
      "Problem has 45 rows, 240 columns (40 with objective) and 440 elements\n",
      "There are 40 singletons with objective \n",
      "Column breakdown:\n",
      "200 of type 0.0->inf, 0 of type 0.0->up, 0 of type lo->inf, \n",
      "0 of type lo->up, 0 of type free, 0 of type fixed, \n",
      "0 of type -inf->0.0, 0 of type -inf->up, 40 of type 0.0->1.0 \n",
      "Row breakdown:\n",
      "0 of type E 0.0, 0 of type E 1.0, 0 of type E -1.0, \n",
      "5 of type E other, 0 of type G 0.0, 0 of type G 1.0, \n",
      "0 of type G other, 40 of type L 0.0, 0 of type L 1.0, \n",
      "0 of type L other, 0 of type Range 0.0->1.0, 0 of type Range other, \n",
      "0 of type Free \n",
      "Continuous objective value is 121300 - 0.00 seconds\n",
      "Cgl0004I processed model has 45 rows, 240 columns (240 integer (40 of which binary)) and 440 elements\n",
      "Cutoff increment increased from 1e-05 to 24.9999\n",
      "Cbc0031I 22 added rows had average density of 37.545455\n",
      "Cbc0013I At root node, 22 cuts changed objective from 121300 to 123349.96 in 48 passes\n",
      "Cbc0014I Cut generator 0 (Probing) - 36 row cuts average 2.9 elements, 0 column cuts (0 active)  in 0.021 seconds - new frequency is 1\n",
      "Cbc0014I Cut generator 1 (Gomory) - 451 row cuts average 109.5 elements, 0 column cuts (0 active)  in 0.048 seconds - new frequency is 1\n",
      "Cbc0014I Cut generator 2 (Knapsack) - 0 row cuts average 0.0 elements, 0 column cuts (0 active)  in 0.007 seconds - new frequency is -100\n",
      "Cbc0014I Cut generator 3 (Clique) - 0 row cuts average 0.0 elements, 0 column cuts (0 active)  in 0.000 seconds - new frequency is -100\n",
      "Cbc0014I Cut generator 4 (MixedIntegerRounding2) - 29 row cuts average 7.5 elements, 0 column cuts (0 active)  in 0.015 seconds - new frequency is -100\n",
      "Cbc0014I Cut generator 5 (FlowCover) - 1 row cuts average 2.0 elements, 0 column cuts (0 active)  in 0.008 seconds - new frequency is -100\n",
      "Cbc0014I Cut generator 6 (TwoMirCuts) - 284 row cuts average 19.6 elements, 0 column cuts (0 active)  in 0.014 seconds - new frequency is 1\n",
      "Cbc0014I Cut generator 7 (ZeroHalf) - 34 row cuts average 6.0 elements, 0 column cuts (0 active)  in 0.013 seconds - new frequency is 1\n",
      "Cbc0010I After 0 nodes, 1 on tree, 1e+50 best solution, best possible 123349.96 (0.23 seconds)\n",
      "Cbc0012I Integer solution of 131100 found by DiveCoefficient after 1124 iterations and 6 nodes (0.30 seconds)\n",
      "Cbc0038I Full problem 45 rows 240 columns, reduced to 13 rows 20 columns\n",
      "Cbc0038I Full problem 45 rows 240 columns, reduced to 18 rows 41 columns\n",
      "Cbc0038I Full problem 45 rows 240 columns, reduced to 19 rows 43 columns\n",
      "Cbc0016I Integer solution of 123350 found by strong branching after 3449 iterations and 134 nodes (0.60 seconds)\n",
      "Cbc0001I Search completed - best objective 123350, took 3449 iterations and 134 nodes (0.60 seconds)\n",
      "Cbc0032I Strong branching done 2014 times (8793 iterations), fathomed 1 nodes and fixed 0 variables\n",
      "Cbc0035I Maximum depth 50, 0 variables fixed on reduced cost\n",
      "Cuts at root node changed objective from 121300 to 123350\n",
      "Probing was tried 89 times and created 106 cuts of which 0 were active after adding rounds of cuts (0.029 seconds)\n",
      "Gomory was tried 89 times and created 536 cuts of which 0 were active after adding rounds of cuts (0.054 seconds)\n",
      "Knapsack was tried 48 times and created 0 cuts of which 0 were active after adding rounds of cuts (0.007 seconds)\n",
      "Clique was tried 48 times and created 0 cuts of which 0 were active after adding rounds of cuts (0.000 seconds)\n",
      "MixedIntegerRounding2 was tried 48 times and created 29 cuts of which 0 were active after adding rounds of cuts (0.015 seconds)\n",
      "FlowCover was tried 48 times and created 1 cuts of which 0 were active after adding rounds of cuts (0.008 seconds)\n",
      "TwoMirCuts was tried 89 times and created 391 cuts of which 0 were active after adding rounds of cuts (0.024 seconds)\n",
      "ZeroHalf was tried 89 times and created 68 cuts of which 0 were active after adding rounds of cuts (0.023 seconds)\n",
      "\n",
      "Result - Optimal solution found\n",
      "\n",
      "Objective value:                123350.00000000\n",
      "Enumerated nodes:               134\n",
      "Total iterations:               3449\n",
      "Time (CPU seconds):             0.67\n",
      "Time (Wallclock seconds):       0.66\n",
      "\n",
      "Total time (CPU seconds):       0.67   (Wallclock seconds):       0.67\n",
      "\n",
      "# ==========================================================\n",
      "# = Solver Results                                         =\n",
      "# ==========================================================\n",
      "# ----------------------------------------------------------\n",
      "#   Problem Information\n",
      "# ----------------------------------------------------------\n",
      "Problem: \n",
      "- Name: unknown\n",
      "  Lower bound: 123350.0\n",
      "  Upper bound: 123350.0\n",
      "  Number of objectives: 1\n",
      "  Number of constraints: 45\n",
      "  Number of variables: 240\n",
      "  Number of binary variables: 40\n",
      "  Number of integer variables: 240\n",
      "  Number of nonzeros: 40\n",
      "  Sense: minimize\n",
      "# ----------------------------------------------------------\n",
      "#   Solver Information\n",
      "# ----------------------------------------------------------\n",
      "Solver: \n",
      "- Status: ok\n",
      "  User time: -1.0\n",
      "  System time: 0.67\n",
      "  Wallclock time: 0.67\n",
      "  Termination condition: optimal\n",
      "  Termination message: Model was solved to optimality (subject to tolerances), and an optimal solution is available.\n",
      "  Statistics: \n",
      "    Branch and bound: \n",
      "      Number of bounded subproblems: 134\n",
      "      Number of created subproblems: 134\n",
      "    Black box: \n",
      "      Number of iterations: 3449\n",
      "  Error rc: 0\n",
      "  Time: 0.9185855388641357\n",
      "# ----------------------------------------------------------\n",
      "#   Solution Information\n",
      "# ----------------------------------------------------------\n",
      "Solution: \n",
      "- number of solutions: 0\n",
      "  number of solutions displayed: 0\n",
      "Optimal Solution:\n"
     ]
    }
   ],
   "source": [
    "#Run Model\n",
    "optimizer = SolverFactory(\"cbc\", executable = solver_location)\n",
    "# optimizer.options['ratio'] = 0.05\n",
    "results = optimizer.solve(model,tee=True) \n",
    "results.write()\n",
    "print(\"Optimal Solution:\")"
   ]
  },
  {
   "cell_type": "code",
   "execution_count": 12,
   "id": "52008380",
   "metadata": {},
   "outputs": [
    {
     "name": "stdout",
     "output_type": "stream",
     "text": [
      " From Mother coil Type 1550 having serial No sno - 1 obtained slit 350 and : # of slits obtained is 1.0\n",
      " From Mother coil Type 1550 having serial No sno - 1 obtained slit 600 and : # of slits obtained is 2.0\n",
      " From Mother coil Type 1550 having serial No sno - 2 obtained slit 550 and : # of slits obtained is 2.0\n",
      " From Mother coil Type 1550 having serial No sno - 2 obtained slit 140 and : # of slits obtained is 3.0\n",
      " From Mother coil Type 1550 having serial No sno - 4 obtained slit 550 and : # of slits obtained is 2.0\n",
      " From Mother coil Type 1550 having serial No sno - 4 obtained slit 220 and : # of slits obtained is 2.0\n",
      " From Mother coil Type 1550 having serial No sno - 5 obtained slit 350 and : # of slits obtained is 1.0\n",
      " From Mother coil Type 1550 having serial No sno - 5 obtained slit 600 and : # of slits obtained is 2.0\n",
      " From Mother coil Type 1550 having serial No sno - 7 obtained slit 550 and : # of slits obtained is 2.0\n",
      " From Mother coil Type 1550 having serial No sno - 7 obtained slit 220 and : # of slits obtained is 2.0\n",
      " From Mother coil Type 1550 having serial No sno - 8 obtained slit 350 and : # of slits obtained is 4.0\n",
      " From Mother coil Type 1550 having serial No sno - 8 obtained slit 140 and : # of slits obtained is 1.0\n",
      " From Mother coil Type 1550 having serial No sno - 10 obtained slit 350 and : # of slits obtained is 1.0\n",
      " From Mother coil Type 1550 having serial No sno - 10 obtained slit 600 and : # of slits obtained is 2.0\n",
      " From Mother coil Type 1550 having serial No sno - 12 obtained slit 350 and : # of slits obtained is 4.0\n",
      " From Mother coil Type 1550 having serial No sno - 12 obtained slit 140 and : # of slits obtained is 1.0\n",
      " From Mother coil Type 1550 having serial No sno - 13 obtained slit 350 and : # of slits obtained is 4.0\n",
      " From Mother coil Type 1550 having serial No sno - 13 obtained slit 140 and : # of slits obtained is 1.0\n",
      " From Mother coil Type 1550 having serial No sno - 14 obtained slit 350 and : # of slits obtained is 1.0\n",
      " From Mother coil Type 1550 having serial No sno - 14 obtained slit 600 and : # of slits obtained is 2.0\n",
      " From Mother coil Type 1550 having serial No sno - 15 obtained slit 350 and : # of slits obtained is 1.0\n",
      " From Mother coil Type 1550 having serial No sno - 15 obtained slit 600 and : # of slits obtained is 2.0\n",
      " From Mother coil Type 1550 having serial No sno - 17 obtained slit 550 and : # of slits obtained is 2.0\n",
      " From Mother coil Type 1550 having serial No sno - 17 obtained slit 220 and : # of slits obtained is 2.0\n",
      " From Mother coil Type 1550 having serial No sno - 19 obtained slit 350 and : # of slits obtained is 1.0\n",
      " From Mother coil Type 1550 having serial No sno - 19 obtained slit 220 and : # of slits obtained is 1.0\n",
      " From Mother coil Type 1550 having serial No sno - 19 obtained slit 140 and : # of slits obtained is 7.0\n",
      " From Mother coil Type 1550 having serial No sno - 20 obtained slit 350 and : # of slits obtained is 4.0\n",
      " From Mother coil Type 1550 having serial No sno - 20 obtained slit 140 and : # of slits obtained is 1.0\n",
      " From Mother coil Type 1350 having serial No sno - 7 obtained slit 350 and : # of slits obtained is 2.0\n",
      " From Mother coil Type 1350 having serial No sno - 7 obtained slit 220 and : # of slits obtained is 1.0\n",
      " From Mother coil Type 1350 having serial No sno - 7 obtained slit 140 and : # of slits obtained is 3.0\n",
      " From Mother coil Type 1350 having serial No sno - 17 obtained slit 550 and : # of slits obtained is 2.0\n",
      " From Mother coil Type 1350 having serial No sno - 17 obtained slit 220 and : # of slits obtained is 1.0\n"
     ]
    }
   ],
   "source": [
    "#Post Process\n",
    "for i in s_McType:\n",
    "        for j in s_McSerialNo:\n",
    "            for k in s_ScType:\n",
    "                if model.v_mothcoil[i,j,k].value is not None and model.v_mothcoil[i,j,k].value>0:\n",
    "                        print(f\" From Mother coil Type {i} having serial No {j} obtained slit {k} and : # of slits obtained is {model.v_mothcoil[i,j,k].value}\")                "
   ]
  },
  {
   "cell_type": "code",
   "execution_count": 13,
   "id": "de1803c1",
   "metadata": {},
   "outputs": [
    {
     "name": "stdout",
     "output_type": "stream",
     "text": [
      "v_mothcoilusd : Size=40, Index=v_mothcoilusd_index\n",
      "    Key                : Lower : Value : Upper : Fixed : Stale : Domain\n",
      "     (1350, 'sno - 1') :     0 :   0.0 :     1 : False : False : Binary\n",
      "    (1350, 'sno - 10') :     0 :   0.0 :     1 : False : False : Binary\n",
      "    (1350, 'sno - 11') :     0 :   0.0 :     1 : False : False : Binary\n",
      "    (1350, 'sno - 12') :     0 :   0.0 :     1 : False : False : Binary\n",
      "    (1350, 'sno - 13') :     0 :   0.0 :     1 : False : False : Binary\n",
      "    (1350, 'sno - 14') :     0 :   0.0 :     1 : False : False : Binary\n",
      "    (1350, 'sno - 15') :     0 :   0.0 :     1 : False : False : Binary\n",
      "    (1350, 'sno - 16') :     0 :   0.0 :     1 : False : False : Binary\n",
      "    (1350, 'sno - 17') :     0 :   1.0 :     1 : False : False : Binary\n",
      "    (1350, 'sno - 18') :     0 :   0.0 :     1 : False : False : Binary\n",
      "    (1350, 'sno - 19') :     0 :   0.0 :     1 : False : False : Binary\n",
      "     (1350, 'sno - 2') :     0 :   0.0 :     1 : False : False : Binary\n",
      "    (1350, 'sno - 20') :     0 :   0.0 :     1 : False : False : Binary\n",
      "     (1350, 'sno - 3') :     0 :   0.0 :     1 : False : False : Binary\n",
      "     (1350, 'sno - 4') :     0 :   0.0 :     1 : False : False : Binary\n",
      "     (1350, 'sno - 5') :     0 :   0.0 :     1 : False : False : Binary\n",
      "     (1350, 'sno - 6') :     0 :   0.0 :     1 : False : False : Binary\n",
      "     (1350, 'sno - 7') :     0 :   1.0 :     1 : False : False : Binary\n",
      "     (1350, 'sno - 8') :     0 :   0.0 :     1 : False : False : Binary\n",
      "     (1350, 'sno - 9') :     0 :   0.0 :     1 : False : False : Binary\n",
      "     (1550, 'sno - 1') :     0 :   1.0 :     1 : False : False : Binary\n",
      "    (1550, 'sno - 10') :     0 :   1.0 :     1 : False : False : Binary\n",
      "    (1550, 'sno - 11') :     0 :   0.0 :     1 : False : False : Binary\n",
      "    (1550, 'sno - 12') :     0 :   1.0 :     1 : False : False : Binary\n",
      "    (1550, 'sno - 13') :     0 :   1.0 :     1 : False : False : Binary\n",
      "    (1550, 'sno - 14') :     0 :   1.0 :     1 : False : False : Binary\n",
      "    (1550, 'sno - 15') :     0 :   1.0 :     1 : False : False : Binary\n",
      "    (1550, 'sno - 16') :     0 :   0.0 :     1 : False : False : Binary\n",
      "    (1550, 'sno - 17') :     0 :   1.0 :     1 : False : False : Binary\n",
      "    (1550, 'sno - 18') :     0 :   0.0 :     1 : False : False : Binary\n",
      "    (1550, 'sno - 19') :     0 :   1.0 :     1 : False : False : Binary\n",
      "     (1550, 'sno - 2') :     0 :   1.0 :     1 : False : False : Binary\n",
      "    (1550, 'sno - 20') :     0 :   1.0 :     1 : False : False : Binary\n",
      "     (1550, 'sno - 3') :     0 :   0.0 :     1 : False : False : Binary\n",
      "     (1550, 'sno - 4') :     0 :   1.0 :     1 : False : False : Binary\n",
      "     (1550, 'sno - 5') :     0 :   1.0 :     1 : False : False : Binary\n",
      "     (1550, 'sno - 6') :     0 :   0.0 :     1 : False : False : Binary\n",
      "     (1550, 'sno - 7') :     0 :   1.0 :     1 : False : False : Binary\n",
      "     (1550, 'sno - 8') :     0 :   1.0 :     1 : False : False : Binary\n",
      "     (1550, 'sno - 9') :     0 :   0.0 :     1 : False : False : Binary\n"
     ]
    }
   ],
   "source": [
    "model.v_mothcoilusd.pprint()"
   ]
  },
  {
   "cell_type": "code",
   "execution_count": 14,
   "id": "f4fe37fe",
   "metadata": {},
   "outputs": [
    {
     "name": "stdout",
     "output_type": "stream",
     "text": [
      "capacity_constraint : Size=40, Index=capacity_constraint_index, Active=True\n",
      "    Key                : Lower : Body                                                                                                                                                                                                                  : Upper : Active\n",
      "     (1350, 'sno - 1') :  -Inf :       550*v_mothcoil[1350,sno - 1,550] + 350*v_mothcoil[1350,sno - 1,350] + 220*v_mothcoil[1350,sno - 1,220] + 140*v_mothcoil[1350,sno - 1,140] + 600*v_mothcoil[1350,sno - 1,600] - 1350*v_mothcoilusd[1350,sno - 1] :   0.0 :   True\n",
      "    (1350, 'sno - 10') :  -Inf : 550*v_mothcoil[1350,sno - 10,550] + 350*v_mothcoil[1350,sno - 10,350] + 220*v_mothcoil[1350,sno - 10,220] + 140*v_mothcoil[1350,sno - 10,140] + 600*v_mothcoil[1350,sno - 10,600] - 1350*v_mothcoilusd[1350,sno - 10] :   0.0 :   True\n",
      "    (1350, 'sno - 11') :  -Inf : 550*v_mothcoil[1350,sno - 11,550] + 350*v_mothcoil[1350,sno - 11,350] + 220*v_mothcoil[1350,sno - 11,220] + 140*v_mothcoil[1350,sno - 11,140] + 600*v_mothcoil[1350,sno - 11,600] - 1350*v_mothcoilusd[1350,sno - 11] :   0.0 :   True\n",
      "    (1350, 'sno - 12') :  -Inf : 550*v_mothcoil[1350,sno - 12,550] + 350*v_mothcoil[1350,sno - 12,350] + 220*v_mothcoil[1350,sno - 12,220] + 140*v_mothcoil[1350,sno - 12,140] + 600*v_mothcoil[1350,sno - 12,600] - 1350*v_mothcoilusd[1350,sno - 12] :   0.0 :   True\n",
      "    (1350, 'sno - 13') :  -Inf : 550*v_mothcoil[1350,sno - 13,550] + 350*v_mothcoil[1350,sno - 13,350] + 220*v_mothcoil[1350,sno - 13,220] + 140*v_mothcoil[1350,sno - 13,140] + 600*v_mothcoil[1350,sno - 13,600] - 1350*v_mothcoilusd[1350,sno - 13] :   0.0 :   True\n",
      "    (1350, 'sno - 14') :  -Inf : 550*v_mothcoil[1350,sno - 14,550] + 350*v_mothcoil[1350,sno - 14,350] + 220*v_mothcoil[1350,sno - 14,220] + 140*v_mothcoil[1350,sno - 14,140] + 600*v_mothcoil[1350,sno - 14,600] - 1350*v_mothcoilusd[1350,sno - 14] :   0.0 :   True\n",
      "    (1350, 'sno - 15') :  -Inf : 550*v_mothcoil[1350,sno - 15,550] + 350*v_mothcoil[1350,sno - 15,350] + 220*v_mothcoil[1350,sno - 15,220] + 140*v_mothcoil[1350,sno - 15,140] + 600*v_mothcoil[1350,sno - 15,600] - 1350*v_mothcoilusd[1350,sno - 15] :   0.0 :   True\n",
      "    (1350, 'sno - 16') :  -Inf : 550*v_mothcoil[1350,sno - 16,550] + 350*v_mothcoil[1350,sno - 16,350] + 220*v_mothcoil[1350,sno - 16,220] + 140*v_mothcoil[1350,sno - 16,140] + 600*v_mothcoil[1350,sno - 16,600] - 1350*v_mothcoilusd[1350,sno - 16] :   0.0 :   True\n",
      "    (1350, 'sno - 17') :  -Inf : 550*v_mothcoil[1350,sno - 17,550] + 350*v_mothcoil[1350,sno - 17,350] + 220*v_mothcoil[1350,sno - 17,220] + 140*v_mothcoil[1350,sno - 17,140] + 600*v_mothcoil[1350,sno - 17,600] - 1350*v_mothcoilusd[1350,sno - 17] :   0.0 :   True\n",
      "    (1350, 'sno - 18') :  -Inf : 550*v_mothcoil[1350,sno - 18,550] + 350*v_mothcoil[1350,sno - 18,350] + 220*v_mothcoil[1350,sno - 18,220] + 140*v_mothcoil[1350,sno - 18,140] + 600*v_mothcoil[1350,sno - 18,600] - 1350*v_mothcoilusd[1350,sno - 18] :   0.0 :   True\n",
      "    (1350, 'sno - 19') :  -Inf : 550*v_mothcoil[1350,sno - 19,550] + 350*v_mothcoil[1350,sno - 19,350] + 220*v_mothcoil[1350,sno - 19,220] + 140*v_mothcoil[1350,sno - 19,140] + 600*v_mothcoil[1350,sno - 19,600] - 1350*v_mothcoilusd[1350,sno - 19] :   0.0 :   True\n",
      "     (1350, 'sno - 2') :  -Inf :       550*v_mothcoil[1350,sno - 2,550] + 350*v_mothcoil[1350,sno - 2,350] + 220*v_mothcoil[1350,sno - 2,220] + 140*v_mothcoil[1350,sno - 2,140] + 600*v_mothcoil[1350,sno - 2,600] - 1350*v_mothcoilusd[1350,sno - 2] :   0.0 :   True\n",
      "    (1350, 'sno - 20') :  -Inf : 550*v_mothcoil[1350,sno - 20,550] + 350*v_mothcoil[1350,sno - 20,350] + 220*v_mothcoil[1350,sno - 20,220] + 140*v_mothcoil[1350,sno - 20,140] + 600*v_mothcoil[1350,sno - 20,600] - 1350*v_mothcoilusd[1350,sno - 20] :   0.0 :   True\n",
      "     (1350, 'sno - 3') :  -Inf :       550*v_mothcoil[1350,sno - 3,550] + 350*v_mothcoil[1350,sno - 3,350] + 220*v_mothcoil[1350,sno - 3,220] + 140*v_mothcoil[1350,sno - 3,140] + 600*v_mothcoil[1350,sno - 3,600] - 1350*v_mothcoilusd[1350,sno - 3] :   0.0 :   True\n",
      "     (1350, 'sno - 4') :  -Inf :       550*v_mothcoil[1350,sno - 4,550] + 350*v_mothcoil[1350,sno - 4,350] + 220*v_mothcoil[1350,sno - 4,220] + 140*v_mothcoil[1350,sno - 4,140] + 600*v_mothcoil[1350,sno - 4,600] - 1350*v_mothcoilusd[1350,sno - 4] :   0.0 :   True\n",
      "     (1350, 'sno - 5') :  -Inf :       550*v_mothcoil[1350,sno - 5,550] + 350*v_mothcoil[1350,sno - 5,350] + 220*v_mothcoil[1350,sno - 5,220] + 140*v_mothcoil[1350,sno - 5,140] + 600*v_mothcoil[1350,sno - 5,600] - 1350*v_mothcoilusd[1350,sno - 5] :   0.0 :   True\n",
      "     (1350, 'sno - 6') :  -Inf :       550*v_mothcoil[1350,sno - 6,550] + 350*v_mothcoil[1350,sno - 6,350] + 220*v_mothcoil[1350,sno - 6,220] + 140*v_mothcoil[1350,sno - 6,140] + 600*v_mothcoil[1350,sno - 6,600] - 1350*v_mothcoilusd[1350,sno - 6] :   0.0 :   True\n",
      "     (1350, 'sno - 7') :  -Inf :       550*v_mothcoil[1350,sno - 7,550] + 350*v_mothcoil[1350,sno - 7,350] + 220*v_mothcoil[1350,sno - 7,220] + 140*v_mothcoil[1350,sno - 7,140] + 600*v_mothcoil[1350,sno - 7,600] - 1350*v_mothcoilusd[1350,sno - 7] :   0.0 :   True\n",
      "     (1350, 'sno - 8') :  -Inf :       550*v_mothcoil[1350,sno - 8,550] + 350*v_mothcoil[1350,sno - 8,350] + 220*v_mothcoil[1350,sno - 8,220] + 140*v_mothcoil[1350,sno - 8,140] + 600*v_mothcoil[1350,sno - 8,600] - 1350*v_mothcoilusd[1350,sno - 8] :   0.0 :   True\n",
      "     (1350, 'sno - 9') :  -Inf :       550*v_mothcoil[1350,sno - 9,550] + 350*v_mothcoil[1350,sno - 9,350] + 220*v_mothcoil[1350,sno - 9,220] + 140*v_mothcoil[1350,sno - 9,140] + 600*v_mothcoil[1350,sno - 9,600] - 1350*v_mothcoilusd[1350,sno - 9] :   0.0 :   True\n",
      "     (1550, 'sno - 1') :  -Inf :       550*v_mothcoil[1550,sno - 1,550] + 350*v_mothcoil[1550,sno - 1,350] + 220*v_mothcoil[1550,sno - 1,220] + 140*v_mothcoil[1550,sno - 1,140] + 600*v_mothcoil[1550,sno - 1,600] - 1550*v_mothcoilusd[1550,sno - 1] :   0.0 :   True\n",
      "    (1550, 'sno - 10') :  -Inf : 550*v_mothcoil[1550,sno - 10,550] + 350*v_mothcoil[1550,sno - 10,350] + 220*v_mothcoil[1550,sno - 10,220] + 140*v_mothcoil[1550,sno - 10,140] + 600*v_mothcoil[1550,sno - 10,600] - 1550*v_mothcoilusd[1550,sno - 10] :   0.0 :   True\n",
      "    (1550, 'sno - 11') :  -Inf : 550*v_mothcoil[1550,sno - 11,550] + 350*v_mothcoil[1550,sno - 11,350] + 220*v_mothcoil[1550,sno - 11,220] + 140*v_mothcoil[1550,sno - 11,140] + 600*v_mothcoil[1550,sno - 11,600] - 1550*v_mothcoilusd[1550,sno - 11] :   0.0 :   True\n",
      "    (1550, 'sno - 12') :  -Inf : 550*v_mothcoil[1550,sno - 12,550] + 350*v_mothcoil[1550,sno - 12,350] + 220*v_mothcoil[1550,sno - 12,220] + 140*v_mothcoil[1550,sno - 12,140] + 600*v_mothcoil[1550,sno - 12,600] - 1550*v_mothcoilusd[1550,sno - 12] :   0.0 :   True\n",
      "    (1550, 'sno - 13') :  -Inf : 550*v_mothcoil[1550,sno - 13,550] + 350*v_mothcoil[1550,sno - 13,350] + 220*v_mothcoil[1550,sno - 13,220] + 140*v_mothcoil[1550,sno - 13,140] + 600*v_mothcoil[1550,sno - 13,600] - 1550*v_mothcoilusd[1550,sno - 13] :   0.0 :   True\n",
      "    (1550, 'sno - 14') :  -Inf : 550*v_mothcoil[1550,sno - 14,550] + 350*v_mothcoil[1550,sno - 14,350] + 220*v_mothcoil[1550,sno - 14,220] + 140*v_mothcoil[1550,sno - 14,140] + 600*v_mothcoil[1550,sno - 14,600] - 1550*v_mothcoilusd[1550,sno - 14] :   0.0 :   True\n",
      "    (1550, 'sno - 15') :  -Inf : 550*v_mothcoil[1550,sno - 15,550] + 350*v_mothcoil[1550,sno - 15,350] + 220*v_mothcoil[1550,sno - 15,220] + 140*v_mothcoil[1550,sno - 15,140] + 600*v_mothcoil[1550,sno - 15,600] - 1550*v_mothcoilusd[1550,sno - 15] :   0.0 :   True\n",
      "    (1550, 'sno - 16') :  -Inf : 550*v_mothcoil[1550,sno - 16,550] + 350*v_mothcoil[1550,sno - 16,350] + 220*v_mothcoil[1550,sno - 16,220] + 140*v_mothcoil[1550,sno - 16,140] + 600*v_mothcoil[1550,sno - 16,600] - 1550*v_mothcoilusd[1550,sno - 16] :   0.0 :   True\n",
      "    (1550, 'sno - 17') :  -Inf : 550*v_mothcoil[1550,sno - 17,550] + 350*v_mothcoil[1550,sno - 17,350] + 220*v_mothcoil[1550,sno - 17,220] + 140*v_mothcoil[1550,sno - 17,140] + 600*v_mothcoil[1550,sno - 17,600] - 1550*v_mothcoilusd[1550,sno - 17] :   0.0 :   True\n",
      "    (1550, 'sno - 18') :  -Inf : 550*v_mothcoil[1550,sno - 18,550] + 350*v_mothcoil[1550,sno - 18,350] + 220*v_mothcoil[1550,sno - 18,220] + 140*v_mothcoil[1550,sno - 18,140] + 600*v_mothcoil[1550,sno - 18,600] - 1550*v_mothcoilusd[1550,sno - 18] :   0.0 :   True\n",
      "    (1550, 'sno - 19') :  -Inf : 550*v_mothcoil[1550,sno - 19,550] + 350*v_mothcoil[1550,sno - 19,350] + 220*v_mothcoil[1550,sno - 19,220] + 140*v_mothcoil[1550,sno - 19,140] + 600*v_mothcoil[1550,sno - 19,600] - 1550*v_mothcoilusd[1550,sno - 19] :   0.0 :   True\n",
      "     (1550, 'sno - 2') :  -Inf :       550*v_mothcoil[1550,sno - 2,550] + 350*v_mothcoil[1550,sno - 2,350] + 220*v_mothcoil[1550,sno - 2,220] + 140*v_mothcoil[1550,sno - 2,140] + 600*v_mothcoil[1550,sno - 2,600] - 1550*v_mothcoilusd[1550,sno - 2] :   0.0 :   True\n",
      "    (1550, 'sno - 20') :  -Inf : 550*v_mothcoil[1550,sno - 20,550] + 350*v_mothcoil[1550,sno - 20,350] + 220*v_mothcoil[1550,sno - 20,220] + 140*v_mothcoil[1550,sno - 20,140] + 600*v_mothcoil[1550,sno - 20,600] - 1550*v_mothcoilusd[1550,sno - 20] :   0.0 :   True\n",
      "     (1550, 'sno - 3') :  -Inf :       550*v_mothcoil[1550,sno - 3,550] + 350*v_mothcoil[1550,sno - 3,350] + 220*v_mothcoil[1550,sno - 3,220] + 140*v_mothcoil[1550,sno - 3,140] + 600*v_mothcoil[1550,sno - 3,600] - 1550*v_mothcoilusd[1550,sno - 3] :   0.0 :   True\n",
      "     (1550, 'sno - 4') :  -Inf :       550*v_mothcoil[1550,sno - 4,550] + 350*v_mothcoil[1550,sno - 4,350] + 220*v_mothcoil[1550,sno - 4,220] + 140*v_mothcoil[1550,sno - 4,140] + 600*v_mothcoil[1550,sno - 4,600] - 1550*v_mothcoilusd[1550,sno - 4] :   0.0 :   True\n",
      "     (1550, 'sno - 5') :  -Inf :       550*v_mothcoil[1550,sno - 5,550] + 350*v_mothcoil[1550,sno - 5,350] + 220*v_mothcoil[1550,sno - 5,220] + 140*v_mothcoil[1550,sno - 5,140] + 600*v_mothcoil[1550,sno - 5,600] - 1550*v_mothcoilusd[1550,sno - 5] :   0.0 :   True\n",
      "     (1550, 'sno - 6') :  -Inf :       550*v_mothcoil[1550,sno - 6,550] + 350*v_mothcoil[1550,sno - 6,350] + 220*v_mothcoil[1550,sno - 6,220] + 140*v_mothcoil[1550,sno - 6,140] + 600*v_mothcoil[1550,sno - 6,600] - 1550*v_mothcoilusd[1550,sno - 6] :   0.0 :   True\n",
      "     (1550, 'sno - 7') :  -Inf :       550*v_mothcoil[1550,sno - 7,550] + 350*v_mothcoil[1550,sno - 7,350] + 220*v_mothcoil[1550,sno - 7,220] + 140*v_mothcoil[1550,sno - 7,140] + 600*v_mothcoil[1550,sno - 7,600] - 1550*v_mothcoilusd[1550,sno - 7] :   0.0 :   True\n",
      "     (1550, 'sno - 8') :  -Inf :       550*v_mothcoil[1550,sno - 8,550] + 350*v_mothcoil[1550,sno - 8,350] + 220*v_mothcoil[1550,sno - 8,220] + 140*v_mothcoil[1550,sno - 8,140] + 600*v_mothcoil[1550,sno - 8,600] - 1550*v_mothcoilusd[1550,sno - 8] :   0.0 :   True\n",
      "     (1550, 'sno - 9') :  -Inf :       550*v_mothcoil[1550,sno - 9,550] + 350*v_mothcoil[1550,sno - 9,350] + 220*v_mothcoil[1550,sno - 9,220] + 140*v_mothcoil[1550,sno - 9,140] + 600*v_mothcoil[1550,sno - 9,600] - 1550*v_mothcoilusd[1550,sno - 9] :   0.0 :   True\n"
     ]
    }
   ],
   "source": [
    "model.capacity_constraint.pprint()"
   ]
  },
  {
   "cell_type": "markdown",
   "id": "6d5908ab",
   "metadata": {},
   "source": [
    "# Comments"
   ]
  },
  {
   "cell_type": "code",
   "execution_count": 15,
   "id": "f929b2b1",
   "metadata": {},
   "outputs": [],
   "source": [
    "# df_slit['Actual Demand'] = None\n",
    "# for index,i in enumerate(df_slit['Demand (tons)']):\n",
    "#     result = i/1550\n",
    "#     result = round(result * 28)\n",
    "#     df_slit.at[index,'Actual Demand'] = result"
   ]
  },
  {
   "cell_type": "code",
   "execution_count": 16,
   "id": "ae10a1a5",
   "metadata": {},
   "outputs": [],
   "source": [
    "# def Utilization_rule(model,i,j,k):\n",
    "#     return model.v_mothcoil[i,j,k] <= model.v_mothcoilusd[i,j] * 1000\n",
    "# model.utilization_constraint = Constraint(s_McType,s_McSerialNo,s_ScType, rule = Utilization_rule)"
   ]
  },
  {
   "cell_type": "code",
   "execution_count": null,
   "id": "cb0ae686",
   "metadata": {},
   "outputs": [],
   "source": []
  }
 ],
 "metadata": {
  "kernelspec": {
   "display_name": "Python 3 (ipykernel)",
   "language": "python",
   "name": "python3"
  },
  "language_info": {
   "codemirror_mode": {
    "name": "ipython",
    "version": 3
   },
   "file_extension": ".py",
   "mimetype": "text/x-python",
   "name": "python",
   "nbconvert_exporter": "python",
   "pygments_lexer": "ipython3",
   "version": "3.10.9"
  }
 },
 "nbformat": 4,
 "nbformat_minor": 5
}
